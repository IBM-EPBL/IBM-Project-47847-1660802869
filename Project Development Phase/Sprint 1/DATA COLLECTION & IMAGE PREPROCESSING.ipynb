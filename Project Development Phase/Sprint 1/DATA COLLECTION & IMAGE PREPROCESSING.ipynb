{
  "nbformat": 4,
  "nbformat_minor": 0,
  "metadata": {
    "colab": {
      "provenance": []
    },
    "kernelspec": {
      "name": "python3",
      "display_name": "Python 3"
    },
    "language_info": {
      "name": "python"
    },
    "accelerator": "GPU",
    "gpuClass": "standard"
  },
  "cells": [
    {
      "cell_type": "markdown",
      "source": [
        "Date\t:29 October 2022\n",
        "\n",
        "Team ID\t:PNT2022TMID46445\n",
        "\n",
        "Project Name :\tAI-powered Nutrition Analyzer for Fitness Enthusiasts\n"
      ],
      "metadata": {
        "id": "sLPVDKgGavvR"
      }
    },
    {
      "cell_type": "markdown",
      "source": [
        "# Data Collection"
      ],
      "metadata": {
        "id": "1kQLJD3ANOFS"
      }
    },
    {
      "cell_type": "markdown",
      "source": [
        "Download the dataset [here](https://drive.google.com/file/d/1jzDjV7jYcIzlIieagaJdubMJ3YeLsry1/view)"
      ],
      "metadata": {
        "id": "DKSbwC-XNg9E"
      }
    },
    {
      "cell_type": "code",
      "source": [
        "from google.colab import drive\n",
        "drive.mount('/content/gdrive')"
      ],
      "metadata": {
        "colab": {
          "base_uri": "https://localhost:8080/"
        },
        "id": "sfiDbovOSDuu",
        "outputId": "94300ea4-4bef-42c5-dc6f-e7ea30fbbb62"
      },
      "execution_count": 1,
      "outputs": [
        {
          "output_type": "stream",
          "name": "stdout",
          "text": [
            "Mounted at /content/gdrive\n"
          ]
        }
      ]
    },
    {
      "cell_type": "code",
      "source": [
        "cd/content/gdrive/MyDrive/Dataset"
      ],
      "metadata": {
        "colab": {
          "base_uri": "https://localhost:8080/"
        },
        "id": "t-j1oIU5SN1v",
        "outputId": "17f97046-0b53-4d60-b7e1-daab63c8f85a"
      },
      "execution_count": 4,
      "outputs": [
        {
          "output_type": "stream",
          "name": "stdout",
          "text": [
            "/content/gdrive/MyDrive/Dataset\n"
          ]
        }
      ]
    },
    {
      "cell_type": "code",
      "execution_count": 3,
      "metadata": {
        "id": "9ujs04PILpji",
        "colab": {
          "base_uri": "https://localhost:8080/"
        },
        "outputId": "f9e800c5-fc5b-49d4-c1ba-4c7807ca7b79"
      },
      "outputs": [
        {
          "output_type": "stream",
          "name": "stdout",
          "text": [
            "unzip:  cannot find or open Dataset.zip, Dataset.zip.zip or Dataset.zip.ZIP.\n"
          ]
        }
      ],
      "source": [
        "# Unzipping the dataset\n",
        "!unzip 'Dataset.zip'"
      ]
    },
    {
      "cell_type": "markdown",
      "source": [
        "# Image Preprocessing"
      ],
      "metadata": {
        "id": "KgCrKFSAYO1q"
      }
    },
    {
      "cell_type": "code",
      "source": [
        "#Importing The ImageDataGenerator Library\n",
        "from keras.preprocessing.image import ImageDataGenerator"
      ],
      "metadata": {
        "id": "OKgDI9z8Thea"
      },
      "execution_count": 5,
      "outputs": []
    },
    {
      "cell_type": "markdown",
      "source": [
        "# Image Data Augmentation"
      ],
      "metadata": {
        "id": "8qeYNoAeUPpJ"
      }
    },
    {
      "cell_type": "code",
      "source": [
        "#Configure ImageDataGenerator Class\n",
        "train_datagen = ImageDataGenerator(rescale=1./255,shear_range=0.2,zoom_range=0.2,horizontal_flip=True)\n",
        "test_datagen=ImageDataGenerator(rescale=1./255)"
      ],
      "metadata": {
        "id": "9itk5t-hUCAd"
      },
      "execution_count": 6,
      "outputs": []
    },
    {
      "cell_type": "markdown",
      "source": [
        "# Applying Image DataGenerator Functionality To Trainset And Testset"
      ],
      "metadata": {
        "id": "a1_zKEGqm7sM"
      }
    },
    {
      "cell_type": "code",
      "source": [
        "#Applying Image DataGenerator Functionality To Trainset And Testset\n",
        "x_train = train_datagen.flow_from_directory(\n",
        "    r'/content/gdrive/MyDrive/Dataset/TRAIN_SET',\n",
        "    target_size=(64, 64),batch_size=5,color_mode='rgb',class_mode='sparse')\n",
        "#Applying Image DataGenerator Functionality To Testset\n",
        "x_test = test_datagen.flow_from_directory(\n",
        "    r'//content/gdrive/MyDrive/Dataset/TEST_SET',\n",
        "    target_size=(64, 64),batch_size=5,color_mode='rgb',class_mode='sparse') "
      ],
      "metadata": {
        "colab": {
          "base_uri": "https://localhost:8080/"
        },
        "id": "3l0S6XKpUOUw",
        "outputId": "26131167-4449-4853-86cc-433c184b2d3d"
      },
      "execution_count": 7,
      "outputs": [
        {
          "output_type": "stream",
          "name": "stdout",
          "text": [
            "Found 20 images belonging to 5 classes.\n",
            "Found 0 images belonging to 5 classes.\n"
          ]
        }
      ]
    },
    {
      "cell_type": "code",
      "source": [
        "#checking the number of classes\n",
        "print(x_train.class_indices)"
      ],
      "metadata": {
        "colab": {
          "base_uri": "https://localhost:8080/"
        },
        "id": "5kQ05xVjqxlD",
        "outputId": "82ddad00-03a3-48c5-a988-faee7b16e006"
      },
      "execution_count": null,
      "outputs": [
        {
          "output_type": "stream",
          "name": "stdout",
          "text": [
            "{'APPLES': 0, 'BANANA': 1, 'ORANGE': 2, 'PINEAPPLE': 3, 'WATERMELON': 4}\n"
          ]
        }
      ]
    },
    {
      "cell_type": "code",
      "source": [
        "#checking the number of classes\n",
        "print(x_test.class_indices)"
      ],
      "metadata": {
        "colab": {
          "base_uri": "https://localhost:8080/"
        },
        "id": "owPaMFgGrQT-",
        "outputId": "199b488a-bc23-4e62-9869-c288c2229132"
      },
      "execution_count": null,
      "outputs": [
        {
          "output_type": "stream",
          "name": "stdout",
          "text": [
            "{'APPLES': 0, 'BANANA': 1, 'ORANGE': 2, 'PINEAPPLE': 3, 'WATERMELON': 4}\n"
          ]
        }
      ]
    },
    {
      "cell_type": "code",
      "execution_count": null,
      "metadata": {
        "id": "yWWDoRDw5pIA",
        "outputId": "2a9a78a5-0f77-4086-bebf-a791bd864c9f",
        "colab": {
          "base_uri": "https://localhost:8080/"
        }
      },
      "outputs": [
        {
          "output_type": "execute_result",
          "data": {
            "text/plain": [
              "Counter({0: 995, 1: 1354, 2: 1019, 3: 275, 4: 475})"
            ]
          },
          "metadata": {},
          "execution_count": 10
        }
      ],
      "source": [
        "from collections import Counter as c\n",
        "c(x_train .labels)"
      ]
    }
  ]
}